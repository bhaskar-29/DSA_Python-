{
 "cells": [
  {
   "cell_type": "code",
   "execution_count": 2,
   "metadata": {},
   "outputs": [
    {
     "name": "stdout",
     "output_type": "stream",
     "text": [
      "ENter 1st Number:2\n",
      "ENter 2nd Number:2\n",
      "TypeError\n"
     ]
    }
   ],
   "source": [
    "x = input(\"ENter 1st Number:\")\n",
    "y = input(\"ENter 2nd Number:\")\n",
    "try:\n",
    "    z = x/y\n",
    "except Exception as e:\n",
    "    print(type(e).__name__)\n",
    "    z = None"
   ]
  },
  {
   "cell_type": "code",
   "execution_count": 7,
   "metadata": {},
   "outputs": [],
   "source": [
    "#type(e).__name__ heps in identifying the type of exception so that we can apply specific exception handling over a problem\n"
   ]
  },
  {
   "cell_type": "code",
   "execution_count": null,
   "metadata": {},
   "outputs": [],
   "source": []
  }
 ],
 "metadata": {
  "kernelspec": {
   "display_name": "Python 3",
   "language": "python",
   "name": "python3"
  },
  "language_info": {
   "codemirror_mode": {
    "name": "ipython",
    "version": 3
   },
   "file_extension": ".py",
   "mimetype": "text/x-python",
   "name": "python",
   "nbconvert_exporter": "python",
   "pygments_lexer": "ipython3",
   "version": "3.7.6"
  }
 },
 "nbformat": 4,
 "nbformat_minor": 4
}
