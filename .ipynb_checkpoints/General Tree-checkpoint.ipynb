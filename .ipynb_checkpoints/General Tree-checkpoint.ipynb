{
 "cells": [
  {
   "cell_type": "code",
   "execution_count": 28,
   "metadata": {},
   "outputs": [],
   "source": [
    "class TreeNode:\n",
    "    def __init__(self, name):\n",
    "        self.name = name\n",
    "        self.children = []\n",
    "        self.parent = None\n",
    "        \n",
    "    def get_level(self):\n",
    "        level = 0\n",
    "        p = self.parent\n",
    "        while p:\n",
    "            level +=1\n",
    "            p = p.parent\n",
    "        return level   \n",
    "            \n",
    "    def add_child(self,child):\n",
    "        child.parent = self\n",
    "        self.children.append(child)\n",
    "        \n",
    "    def print_tree(self, level):\n",
    "        spaces = ' '* self.get_level() * 3 \n",
    "        prefix = spaces + '|__' if self.parent else \"\" \n",
    "        print(prefix+self.name)\n",
    "        if self.get_level() != int(level):\n",
    "            for child in self.children:\n",
    "                child.print_tree(level)\n",
    "               \n",
    "\n",
    "            \n",
    "def build_location_tree():\n",
    "    root = TreeNode('Global')\n",
    "    \n",
    "    india = TreeNode('India')\n",
    "    usa = TreeNode('USA')\n",
    "    \n",
    "    gujarat = TreeNode('Gujarat')\n",
    "    karnataka = TreeNode('Karnatka')\n",
    "    \n",
    "    gujarat.add_child(TreeNode('Ahmedabad'))\n",
    "    gujarat.add_child(TreeNode('Baroda'))\n",
    "    \n",
    "    karnataka.add_child(TreeNode('Bangluru'))\n",
    "    karnataka.add_child(TreeNode('Mysore'))\n",
    "    \n",
    "    india.add_child(gujarat)\n",
    "    india.add_child(karnataka)\n",
    "    \n",
    "    new_jersey = TreeNode('New Jersey')\n",
    "    new_jersey.add_child(TreeNode('Princeton'))\n",
    "    new_jersey.add_child(TreeNode('Trenton'))\n",
    "    \n",
    "    california = TreeNode('California')\n",
    "    california.add_child(TreeNode('San Francisco'))\n",
    "    california.add_child(TreeNode('Mount View'))\n",
    "    california.add_child(TreeNode('Palo Alto'))\n",
    "    \n",
    "    usa.add_child(new_jersey)\n",
    "    usa.add_child(california)\n",
    "    \n",
    "    root.add_child(india)\n",
    "    root.add_child(usa)\n",
    "    \n",
    "    return root"
   ]
  },
  {
   "cell_type": "code",
   "execution_count": 34,
   "metadata": {},
   "outputs": [
    {
     "name": "stdout",
     "output_type": "stream",
     "text": [
      "Global\n",
      "   |__India\n",
      "      |__Gujarat\n",
      "      |__Karnatka\n",
      "   |__USA\n",
      "      |__New Jersey\n",
      "      |__California\n"
     ]
    }
   ],
   "source": [
    "if __name__ == '__main__':\n",
    "    root_node = build_location_tree()\n",
    "    root_node.print_tree(2)"
   ]
  },
  {
   "cell_type": "code",
   "execution_count": null,
   "metadata": {},
   "outputs": [],
   "source": []
  }
 ],
 "metadata": {
  "kernelspec": {
   "display_name": "Python 3",
   "language": "python",
   "name": "python3"
  },
  "language_info": {
   "codemirror_mode": {
    "name": "ipython",
    "version": 3
   },
   "file_extension": ".py",
   "mimetype": "text/x-python",
   "name": "python",
   "nbconvert_exporter": "python",
   "pygments_lexer": "ipython3",
   "version": "3.7.6"
  }
 },
 "nbformat": 4,
 "nbformat_minor": 4
}
