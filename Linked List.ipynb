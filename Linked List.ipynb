{
 "cells": [
  {
   "cell_type": "code",
   "execution_count": 7,
   "metadata": {},
   "outputs": [
    {
     "name": "stdout",
     "output_type": "stream",
     "text": [
      "89-->5-->79-->\n"
     ]
    }
   ],
   "source": [
    "class Node:\n",
    "    def __init__(self, data=None, next=None):\n",
    "        self.data = data\n",
    "        self.next = next\n",
    "    \n",
    "class LinkedList:\n",
    "    def __init__(self):\n",
    "        self.head= None\n",
    "        \n",
    "    def insert_at_beginning(self, data):\n",
    "        node = Node(data, self.head)\n",
    "        self.head = node\n",
    "    \n",
    "    def insert_at_end(self, data):\n",
    "        if self.head is None:\n",
    "            self.head = Node(data, None)\n",
    "            return \n",
    "        \n",
    "        itr = self.head\n",
    "        while itr.next:\n",
    "            itr = itr.next\n",
    "            \n",
    "        itr.next = Node(data, None)\n",
    "        \n",
    "    def print(self):\n",
    "        if self.head is None:\n",
    "            print(\"Empty\")\n",
    "        itr = self.head\n",
    "        listr = ''\n",
    "        \n",
    "        while itr:\n",
    "            listr += str(itr.data) + '-->'\n",
    "            itr = itr.next\n",
    "            \n",
    "        print(listr)\n",
    "        \n",
    "     \n",
    "        \n",
    "if __name__ == '__main__':\n",
    "    ll = LinkedList()\n",
    "    ll.insert_at_beginning(5)\n",
    "    ll.insert_at_beginning(89)\n",
    "    ll.insert_at_end(79)\n",
    "    ll.print()\n"
   ]
  },
  {
   "cell_type": "code",
   "execution_count": null,
   "metadata": {},
   "outputs": [],
   "source": []
  }
 ],
 "metadata": {
  "kernelspec": {
   "display_name": "Python 3",
   "language": "python",
   "name": "python3"
  },
  "language_info": {
   "codemirror_mode": {
    "name": "ipython",
    "version": 3
   },
   "file_extension": ".py",
   "mimetype": "text/x-python",
   "name": "python",
   "nbconvert_exporter": "python",
   "pygments_lexer": "ipython3",
   "version": "3.7.6"
  }
 },
 "nbformat": 4,
 "nbformat_minor": 4
}
