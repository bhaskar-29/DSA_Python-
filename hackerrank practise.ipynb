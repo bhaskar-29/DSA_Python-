{
 "cells": [
  {
   "cell_type": "code",
   "execution_count": 6,
   "metadata": {},
   "outputs": [],
   "source": [
    "def reverseArray(a):\n",
    "    new = list()\n",
    "    while len(a)!= 0:\n",
    "        new.append(a.pop())\n",
    "    return new "
   ]
  },
  {
   "cell_type": "code",
   "execution_count": 7,
   "metadata": {
    "scrolled": true
   },
   "outputs": [
    {
     "data": {
      "text/plain": [
       "[4, 3, 2, 1]"
      ]
     },
     "execution_count": 7,
     "metadata": {},
     "output_type": "execute_result"
    }
   ],
   "source": [
    "ab = [1, 2, 3, 4]\n",
    "reverseArray(ab)"
   ]
  },
  {
   "cell_type": "code",
   "execution_count": 8,
   "metadata": {},
   "outputs": [],
   "source": [
    "def hourglassSum(arr):\n",
    "    "
   ]
  },
  {
   "cell_type": "code",
   "execution_count": null,
   "metadata": {},
   "outputs": [],
   "source": [
    "1 1 1 0 0 0 0 1 0 0 0 0 1 1 1 0 0 0 0 0 2 4 4 0 0 0 0 2 0 0  0 0 1 2 4 0"
   ]
  },
  {
   "cell_type": "code",
   "execution_count": null,
   "metadata": {},
   "outputs": [],
   "source": [
    "SELECT\n",
    "    CASE\n",
    "        WHEN P IS NULL THEN CONCAT(N, ' Root')\n",
    "        WHEN N NOT IN (SELECT GROUP_CONCAT(DISTINCT P) FROM BST) THEN CONCAT(N, ' Leaf')\n",
    "        ELSE CONCAT(N, ' Inner')\n",
    "    END AS NUM \n",
    "FROM BST\n",
    "order by N"
   ]
  },
  {
   "cell_type": "code",
   "execution_count": null,
   "metadata": {},
   "outputs": [],
   "source": [
    "1 2\n",
    "3 2\n",
    "5 6\n",
    "7 6\n",
    "2 4\n",
    "6 4\n",
    "4 15\n",
    "8 9\n",
    "10 9\n",
    "12 13\n",
    "14 13\n",
    "9 11\n",
    "13 11\n",
    "11 15\n",
    "15 NULL"
   ]
  }
 ],
 "metadata": {
  "kernelspec": {
   "display_name": "Python 3",
   "language": "python",
   "name": "python3"
  },
  "language_info": {
   "codemirror_mode": {
    "name": "ipython",
    "version": 3
   },
   "file_extension": ".py",
   "mimetype": "text/x-python",
   "name": "python",
   "nbconvert_exporter": "python",
   "pygments_lexer": "ipython3",
   "version": "3.7.6"
  }
 },
 "nbformat": 4,
 "nbformat_minor": 4
}
