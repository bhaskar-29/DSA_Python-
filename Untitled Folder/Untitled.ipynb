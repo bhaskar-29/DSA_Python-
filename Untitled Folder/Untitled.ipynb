{
 "cells": [
  {
   "cell_type": "code",
   "execution_count": 30,
   "metadata": {},
   "outputs": [],
   "source": [
    "def getSmallestDivNum(n): \n",
    "        \n",
    "    def gcd(a,b):\n",
    "\n",
    "        if a==0:\n",
    "            return b\n",
    "\n",
    "        return gcd(b%a, a)\n",
    "\n",
    "    lcm = 1\n",
    "    for i in range(1,n+1):\n",
    "        lcm = (lcm*i)//gcd(lcm, i)\n",
    "            \n",
    "    return lcm\n"
   ]
  },
  {
   "cell_type": "code",
   "execution_count": 32,
   "metadata": {},
   "outputs": [
    {
     "data": {
      "text/plain": [
       "60"
      ]
     },
     "execution_count": 32,
     "metadata": {},
     "output_type": "execute_result"
    }
   ],
   "source": [
    "getSmallestDivNum(6)"
   ]
  },
  {
   "cell_type": "code",
   "execution_count": 65,
   "metadata": {},
   "outputs": [],
   "source": [
    "def getMaxOccurringChar(s):\n",
    "    \n",
    "    alpha = dict()\n",
    "    for char in s:\n",
    "        \n",
    "        if alpha is None:\n",
    "            alpha[char] = 1\n",
    "        \n",
    "        if char not in alpha.keys():\n",
    "            alpha[char]=1\n",
    "        \n",
    "        else:\n",
    "            alpha[char] += 1\n",
    "            \n",
    "    chars=list()\n",
    "    for k, v in alpha.items():\n",
    "        if v == max(alpha.values()):\n",
    "            chars.append(k)\n",
    "        \n",
    "    return min(chars)"
   ]
  },
  {
   "cell_type": "code",
   "execution_count": 66,
   "metadata": {},
   "outputs": [
    {
     "data": {
      "text/plain": [
       "'e'"
      ]
     },
     "execution_count": 66,
     "metadata": {},
     "output_type": "execute_result"
    }
   ],
   "source": [
    "getMaxOccurringChar('testsample')"
   ]
  },
  {
   "cell_type": "code",
   "execution_count": 67,
   "metadata": {},
   "outputs": [],
   "source": []
  },
  {
   "cell_type": "code",
   "execution_count": 84,
   "metadata": {},
   "outputs": [],
   "source": [
    "from math import floor\n",
    "def quadraticRoots(a, b, c):\n",
    "        # code here\n",
    "        if b*b - (4*a*c) < 0:\n",
    "            return -1\n",
    "        \n",
    "        d = pow((b*b - (4*a*c)), 0.5)\n",
    "        q1, q2 = (-b+d)/(2*a), (-b-d)/(2*a)\n",
    "        \n",
    "        if q1==q2: return q1\n",
    "        return floor(max(q1,q2)), floor(min(q1,q2)), d, q1, q2"
   ]
  },
  {
   "cell_type": "code",
   "execution_count": 85,
   "metadata": {},
   "outputs": [
    {
     "data": {
      "text/plain": [
       "(-1, -1, 569.1256451786371, -0.22265582102484235, -0.9794718385496257)"
      ]
     },
     "execution_count": 85,
     "metadata": {},
     "output_type": "execute_result"
    }
   ],
   "source": [
    "quadraticRoots(752, 904, 164)"
   ]
  },
  {
   "cell_type": "code",
   "execution_count": 22,
   "metadata": {},
   "outputs": [],
   "source": [
    "def digitsInFactorial(N):\n",
    "    \n",
    "    def factorial(num):\n",
    "        if num == 1:\n",
    "            return num\n",
    "        else:\n",
    "            return num*factorial(num-1)\n",
    "\n",
    "    if N>0: \n",
    "        fac = factorial(N)\n",
    "        length = len(str(fac))\n",
    "        return length \n",
    "        \n",
    "    else:\n",
    "        return 1"
   ]
  },
  {
   "cell_type": "code",
   "execution_count": 27,
   "metadata": {},
   "outputs": [
    {
     "data": {
      "text/plain": [
       "2"
      ]
     },
     "execution_count": 27,
     "metadata": {},
     "output_type": "execute_result"
    }
   ],
   "source": [
    "digitsInFactorial(4)"
   ]
  },
  {
   "cell_type": "code",
   "execution_count": 41,
   "metadata": {},
   "outputs": [],
   "source": [
    "\n",
    "def isPrime(N):\n",
    "    if (N==2) | (N==3):return True\n",
    "    if N == 0: return False\n",
    "    if (N%2==0) | (N%3==0): return False\n",
    "    \n",
    "    num = 5\n",
    "    while num*num<=N:\n",
    "        if (N%num==0) | (N%(num+2)==0): return False\n",
    "        num += 6\n",
    "    return True\n",
    "        "
   ]
  },
  {
   "cell_type": "code",
   "execution_count": 42,
   "metadata": {},
   "outputs": [
    {
     "data": {
      "text/plain": [
       "True"
      ]
     },
     "execution_count": 42,
     "metadata": {},
     "output_type": "execute_result"
    }
   ],
   "source": [
    "isPrime(3)"
   ]
  }
 ],
 "metadata": {
  "kernelspec": {
   "display_name": "Python 3",
   "language": "python",
   "name": "python3"
  },
  "language_info": {
   "codemirror_mode": {
    "name": "ipython",
    "version": 3
   },
   "file_extension": ".py",
   "mimetype": "text/x-python",
   "name": "python",
   "nbconvert_exporter": "python",
   "pygments_lexer": "ipython3",
   "version": "3.7.6"
  }
 },
 "nbformat": 4,
 "nbformat_minor": 4
}
