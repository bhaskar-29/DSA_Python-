{
 "cells": [
  {
   "cell_type": "code",
   "execution_count": 43,
   "metadata": {},
   "outputs": [
    {
     "name": "stdout",
     "output_type": "stream",
     "text": [
      "34\n"
     ]
    }
   ],
   "source": [
    "class BinartySearchTreeNode:\n",
    "    \n",
    "    def __init__(self,data):\n",
    "        self.data = data\n",
    "        self.left = None\n",
    "        self.right = None\n",
    "        \n",
    "    def add_child(self, data):\n",
    "        if data == self.data:\n",
    "            return\n",
    "        if data < self.data:\n",
    "            if self.left:\n",
    "                self.left.add_child(data)\n",
    "            else:\n",
    "                self.left = BinartySearchTreeNode(data)\n",
    "            \n",
    "        else:\n",
    "            if self.right:\n",
    "                self.right.add_child(data)\n",
    "            else:\n",
    "                self.right = BinartySearchTreeNode(data)\n",
    "                \n",
    "    def search(self, val):\n",
    "        if self.data == val:\n",
    "            return True\n",
    "        \n",
    "        if val < self.data:\n",
    "            if self.left:\n",
    "                return self.left.search(val)\n",
    "            else:\n",
    "                return False\n",
    "                \n",
    "        if val > self.data:\n",
    "            if self.right:\n",
    "                return self.right.search(val)\n",
    "            \n",
    "            else:\n",
    "                return False\n",
    "            \n",
    "                \n",
    "    def in_order_traversal(self):\n",
    "        elements = []\n",
    "        if self.left:\n",
    "            elements += self.left.in_order_traversal()\n",
    "        \n",
    "        elements.append(self.data)\n",
    "        \n",
    "        if self.right:\n",
    "            elements += self.right.in_order_traversal()\n",
    "            \n",
    "        \n",
    "        return elements\n",
    "    \n",
    "    def find_min(self):\n",
    "        if self.left is None:\n",
    "            return self.data\n",
    "        return self.left.find_min() \n",
    "    \n",
    "    def find_max(self):\n",
    "        if self.right is None:\n",
    "            return self.data\n",
    "        return self.right.find_max()\n",
    "    \n",
    "    def calculate_sum(self):\n",
    "        i = 0\n",
    "        for n in numbers:\n",
    "            i+= n\n",
    "        return i\n",
    "    \n",
    "    def pre_order_traversal(self):\n",
    "        elements = []\n",
    "        \n",
    "        elements.append(self.data)\n",
    "        if self.left:\n",
    "            elements += self.left.pre_order_traversal()\n",
    "            \n",
    "        if self.right:\n",
    "            elements += self.right.pre_order_traversal()\n",
    "            \n",
    "        return elements\n",
    "        \n",
    "    def post_order_traversal(self):\n",
    "        elements=[]\n",
    "        \n",
    "        if self.left:\n",
    "            elements += self.left.post_order_traversal()\n",
    "            \n",
    "        if self.right:\n",
    "                elements += self.right.post_order_traversal()\n",
    "                \n",
    "        elements.append(self.data)    \n",
    "           \n",
    "        return elements\n",
    "     \n",
    "        def delete(self, val):\n",
    "            if val < self.data:\n",
    "                if self.left:\n",
    "                    self.left = self.left.delete(val)\n",
    "                    \n",
    "            elif val > slef.data:\n",
    "                if self.right:\n",
    "                    self.right = self.right.delete(val)\n",
    "            else:\n",
    "                if self.left is None and self.right is None:\n",
    "                    return None\n",
    "                if self.left is None:\n",
    "                    return self.right\n",
    "                if self.right is None:\n",
    "                    return self.left\n",
    "                min_val = self.right.find_min()\n",
    "                self.data = min_val\n",
    "                self.right = self.right.delete(min_val)\n",
    "            return self\n",
    "        \n",
    "def build_tree(elements):\n",
    "    root = BinartySearchTreeNode(elements[0])\n",
    "    \n",
    "    for i in range(1, len(elements)):\n",
    "        root.add_child(elements[i])\n",
    "\n",
    "    return root\n",
    "\n",
    "if __name__ == '__main__':\n",
    "    numbers = [17,4,1,20,9,23,18,34]\n",
    "    numb_tress = build_tree(numbers)\n",
    "    print(numb_tress.find_max())"
   ]
  },
  {
   "cell_type": "code",
   "execution_count": 49,
   "metadata": {},
   "outputs": [],
   "source": [
    "numbers = [17,17,4,1,20,9,23,18,34]"
   ]
  },
  {
   "cell_type": "code",
   "execution_count": 50,
   "metadata": {},
   "outputs": [],
   "source": [
    "numbers.remove(17)"
   ]
  },
  {
   "cell_type": "code",
   "execution_count": 51,
   "metadata": {},
   "outputs": [
    {
     "data": {
      "text/plain": [
       "[17, 4, 1, 20, 9, 23, 18, 34]"
      ]
     },
     "execution_count": 51,
     "metadata": {},
     "output_type": "execute_result"
    }
   ],
   "source": [
    "numbers"
   ]
  },
  {
   "cell_type": "code",
   "execution_count": null,
   "metadata": {},
   "outputs": [],
   "source": []
  }
 ],
 "metadata": {
  "kernelspec": {
   "display_name": "Python 3",
   "language": "python",
   "name": "python3"
  },
  "language_info": {
   "codemirror_mode": {
    "name": "ipython",
    "version": 3
   },
   "file_extension": ".py",
   "mimetype": "text/x-python",
   "name": "python",
   "nbconvert_exporter": "python",
   "pygments_lexer": "ipython3",
   "version": "3.7.6"
  }
 },
 "nbformat": 4,
 "nbformat_minor": 4
}
