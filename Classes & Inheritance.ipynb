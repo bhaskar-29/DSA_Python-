{
 "cells": [
  {
   "cell_type": "code",
   "execution_count": 1,
   "metadata": {},
   "outputs": [
    {
     "name": "stdout",
     "output_type": "stream",
     "text": [
      "YO\n"
     ]
    }
   ],
   "source": [
    "class Human:\n",
    "    def __init__(self, name, occupation):\n",
    "        self.name = name\n",
    "        self.occupation = occupation\n",
    "    \n",
    "    def do_work(self):\n",
    "        if self.occupation == 'tp':\n",
    "            print('YO')\n",
    "        elif self.occupation == 'yp':\n",
    "            print('OY')\n",
    "        \n",
    "    def speaks(self):\n",
    "        print(self.name, \"speaks yo\")\n",
    "    \n",
    "\n",
    "tom = Human(\"YO YO Honey Singh\", \"tp\")\n",
    "tom.do_work()"
   ]
  },
  {
   "cell_type": "code",
   "execution_count": 2,
   "metadata": {},
   "outputs": [
    {
     "data": {
      "text/plain": [
       "'YO YO Honey Singh'"
      ]
     },
     "execution_count": 2,
     "metadata": {},
     "output_type": "execute_result"
    }
   ],
   "source": [
    "tom.name"
   ]
  },
  {
   "cell_type": "code",
   "execution_count": 3,
   "metadata": {},
   "outputs": [
    {
     "name": "stdout",
     "output_type": "stream",
     "text": [
      "YO YO Honey Singh speaks yo\n"
     ]
    }
   ],
   "source": [
    "tom.speaks()"
   ]
  },
  {
   "cell_type": "code",
   "execution_count": 4,
   "metadata": {},
   "outputs": [],
   "source": [
    "class Vehicle:\n",
    "    def general_use(self):\n",
    "        print('General Use')\n",
    "        \n",
    "class Car(Vehicle):\n",
    "    def __init__(self):\n",
    "        print('I am car, Hi nigga')\n",
    "        self.wheels = 4\n",
    "        self.roof = True\n",
    "    \n",
    "    def specific_use(self):\n",
    "        print(\"SU 1\")\n",
    "\n",
    "class Motorcyle(Vehicle):\n",
    "    def __init__(self):\n",
    "        print(\"I am Motorcgyle, Hi nigga\")\n",
    "        self.wheels = 2\n",
    "        self.roof = False\n",
    "    def specific_use(self):\n",
    "        print(\"SU 2\")\n",
    "    \n"
   ]
  },
  {
   "cell_type": "code",
   "execution_count": 11,
   "metadata": {},
   "outputs": [],
   "source": [
    "v= Vehicle()"
   ]
  },
  {
   "cell_type": "code",
   "execution_count": 14,
   "metadata": {},
   "outputs": [
    {
     "name": "stdout",
     "output_type": "stream",
     "text": [
      "I am car, Hi nigga\n"
     ]
    }
   ],
   "source": [
    "c = Car()"
   ]
  },
  {
   "cell_type": "code",
   "execution_count": 15,
   "metadata": {},
   "outputs": [
    {
     "data": {
      "text/plain": [
       "4"
      ]
     },
     "execution_count": 15,
     "metadata": {},
     "output_type": "execute_result"
    }
   ],
   "source": [
    "c.wheels"
   ]
  },
  {
   "cell_type": "code",
   "execution_count": 16,
   "metadata": {},
   "outputs": [
    {
     "data": {
      "text/plain": [
       "True"
      ]
     },
     "execution_count": 16,
     "metadata": {},
     "output_type": "execute_result"
    }
   ],
   "source": [
    "c.roof"
   ]
  },
  {
   "cell_type": "code",
   "execution_count": 17,
   "metadata": {},
   "outputs": [
    {
     "name": "stdout",
     "output_type": "stream",
     "text": [
      "SU 1\n"
     ]
    }
   ],
   "source": [
    "c.specific_use()"
   ]
  },
  {
   "cell_type": "code",
   "execution_count": 18,
   "metadata": {},
   "outputs": [
    {
     "name": "stdout",
     "output_type": "stream",
     "text": [
      "I am Motorcgyle, Hi nigga\n"
     ]
    }
   ],
   "source": [
    "m = Motorcyle()"
   ]
  },
  {
   "cell_type": "code",
   "execution_count": null,
   "metadata": {},
   "outputs": [],
   "source": []
  }
 ],
 "metadata": {
  "kernelspec": {
   "display_name": "Python 3",
   "language": "python",
   "name": "python3"
  },
  "language_info": {
   "codemirror_mode": {
    "name": "ipython",
    "version": 3
   },
   "file_extension": ".py",
   "mimetype": "text/x-python",
   "name": "python",
   "nbconvert_exporter": "python",
   "pygments_lexer": "ipython3",
   "version": "3.7.6"
  }
 },
 "nbformat": 4,
 "nbformat_minor": 4
}
