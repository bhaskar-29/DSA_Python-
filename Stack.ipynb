{
 "cells": [
  {
   "cell_type": "markdown",
   "metadata": {},
   "source": [
    "To use stacks, \"collections.deque\" is used and not list because of problem with memory allocation and dynamic programmming"
   ]
  },
  {
   "cell_type": "code",
   "execution_count": 3,
   "metadata": {},
   "outputs": [],
   "source": [
    "from collections import deque"
   ]
  },
  {
   "cell_type": "code",
   "execution_count": 4,
   "metadata": {},
   "outputs": [],
   "source": [
    "stack = deque()"
   ]
  },
  {
   "cell_type": "code",
   "execution_count": 6,
   "metadata": {},
   "outputs": [],
   "source": [
    "stack.append(\"Link1 \")\n",
    "stack.append(\"link 2\")\n",
    "stack.append('Link 3')"
   ]
  },
  {
   "cell_type": "code",
   "execution_count": 9,
   "metadata": {},
   "outputs": [
    {
     "data": {
      "text/plain": [
       "'Link 3'"
      ]
     },
     "execution_count": 9,
     "metadata": {},
     "output_type": "execute_result"
    }
   ],
   "source": [
    "stack.pop()"
   ]
  },
  {
   "cell_type": "code",
   "execution_count": 15,
   "metadata": {},
   "outputs": [],
   "source": [
    "stack.clear()"
   ]
  },
  {
   "cell_type": "code",
   "execution_count": 17,
   "metadata": {},
   "outputs": [
    {
     "data": {
      "text/plain": [
       "deque(['list 1', 'list 2'])"
      ]
     },
     "execution_count": 17,
     "metadata": {},
     "output_type": "execute_result"
    }
   ],
   "source": [
    "stack.append('list 1')\n",
    "stack.append('list 2')\n",
    "stack"
   ]
  },
  {
   "cell_type": "code",
   "execution_count": 18,
   "metadata": {},
   "outputs": [],
   "source": [
    "stack.reverse()\n"
   ]
  },
  {
   "cell_type": "markdown",
   "metadata": {},
   "source": [
    "# Python Implementation of Stack"
   ]
  },
  {
   "cell_type": "code",
   "execution_count": 59,
   "metadata": {},
   "outputs": [],
   "source": [
    "class Stack:\n",
    "    def __init__(self):\n",
    "        self.container = deque()\n",
    "        \n",
    "    def push(self, val):\n",
    "        self.container.append(val)\n",
    "    \n",
    "    def pop(self):\n",
    "        return self.container.pop()\n",
    "    \n",
    "    def peek(self):\n",
    "        return self.container[-1]\n",
    "\n",
    "    def is_empty(self):\n",
    "        return len(self.container) == 0\n",
    "    \n",
    "    def size(self):\n",
    "        return len(self.container)\n",
    "    \n",
    "    def empty_list(self):\n",
    "        self.container.clear()\n",
    "        \n",
    "    def reverse_order(self):\n",
    "        self.container.reverse()\n",
    "    \n",
    "    def print(self):\n",
    "        print(self.container)\n",
    "        \n",
    "    def is_balanced(string):\n",
    "        self.empty_list()\n",
    "        "
   ]
  },
  {
   "cell_type": "markdown",
   "metadata": {},
   "source": [
    "# Exercise"
   ]
  },
  {
   "cell_type": "markdown",
   "metadata": {},
   "source": [
    "Write a function in python that can reverse a string using stack data structure. Use Stack class from the tutorial.\n",
    "\n",
    "reverse_string(\"We will conquere COVID-19\") should return \"91-DIVOC ereuqnoc lliw eW\""
   ]
  },
  {
   "cell_type": "code",
   "execution_count": 62,
   "metadata": {
    "scrolled": true
   },
   "outputs": [],
   "source": [
    "s = Stack()\n",
    "def reverse_string(string):\n",
    "    s.empty_list()\n",
    "    for char in string:\n",
    "        s.push(char)\n",
    "    \n",
    "    new_str = ''\n",
    "    while s.size()!=0:\n",
    "        new_str += s.pop()\n",
    "    return new_str\n",
    "    "
   ]
  },
  {
   "cell_type": "code",
   "execution_count": 63,
   "metadata": {},
   "outputs": [
    {
     "data": {
      "text/plain": [
       "'91-DIVOC ereuqnoc lliw eW'"
      ]
     },
     "execution_count": 63,
     "metadata": {},
     "output_type": "execute_result"
    }
   ],
   "source": [
    "reverse_string(\"We will conquere COVID-19\")"
   ]
  },
  {
   "cell_type": "code",
   "execution_count": 4,
   "metadata": {},
   "outputs": [
    {
     "name": "stdout",
     "output_type": "stream",
     "text": [
      "2\n",
      "deque([1])\n"
     ]
    }
   ],
   "source": [
    "from collections import deque\n",
    "\n",
    "class Stack:\n",
    "    def __init__(self):\n",
    "        self.container = deque()\n",
    "        \n",
    "    #To add a value to stack\n",
    "    def push(self, val):\n",
    "        self.container.append(val)\n",
    "    \n",
    "    #To take out the last added value from stack\n",
    "    def pop(self):\n",
    "        return self.container.pop()\n",
    "        \n",
    "    #To know the first input value in Stack\n",
    "    def peek(self):\n",
    "        return self.container[-1]\n",
    "\n",
    "    #To check if our Stack is empty\n",
    "    def is_empty(self):\n",
    "        return len(self.container) == 0\n",
    "    \n",
    "    #To get the length\n",
    "    def size(self):\n",
    "        return len(self.container)\n",
    "    \n",
    "    #To empty our Stack\n",
    "    def empty_list(self):\n",
    "        self.container.clear()\n",
    "        \n",
    "    #To reverse the order of Stack\n",
    "    def reverse_order(self):\n",
    "        self.container.reverse()\n",
    "    \n",
    "    #To print our Stack\n",
    "    def print(self):\n",
    "        print(self.container)\n",
    "        \n",
    "    def is_balanced(string):\n",
    "        self.empty_list()\n",
    "       \n",
    "if __name__=='__main__': \n",
    "    stack = Stack()\n",
    "    stack.push(1) #adds 1 to our Stack\n",
    "    stack.push(2) #adds 2 to our Stack\n",
    "    print(stack.pop()) #pops out value=2 from our Stack\n",
    "    stack.print()"
   ]
  },
  {
   "cell_type": "code",
   "execution_count": null,
   "metadata": {},
   "outputs": [],
   "source": []
  }
 ],
 "metadata": {
  "kernelspec": {
   "display_name": "Python 3",
   "language": "python",
   "name": "python3"
  },
  "language_info": {
   "codemirror_mode": {
    "name": "ipython",
    "version": 3
   },
   "file_extension": ".py",
   "mimetype": "text/x-python",
   "name": "python",
   "nbconvert_exporter": "python",
   "pygments_lexer": "ipython3",
   "version": "3.7.6"
  }
 },
 "nbformat": 4,
 "nbformat_minor": 4
}
